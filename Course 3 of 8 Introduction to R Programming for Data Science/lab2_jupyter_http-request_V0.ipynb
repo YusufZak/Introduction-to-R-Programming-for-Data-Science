{
 "cells": [
  {
   "cell_type": "markdown",
   "metadata": {},
   "source": [
    "<a href=\"https://cognitiveclass.ai/?utm_medium=Exinfluencer&utm_source=Exinfluencer&utm_content=000026UJ&utm_term=10006555&utm_id=NA-SkillsNetwork-Channel-SkillsNetworkCoursesIBMDeveloperSkillsNetworkRP0101ENCoursera23911160-2021-01-01\">\n",
    "    <img src=\"https://cf-courses-data.s3.us.cloud-object-storage.appdomain.cloud/IBMDeveloperSkillsNetwork-RP0101EN-Coursera/v2/M1_R_Basics/images/IDSNlogo.png\" width=\"200\" align=\"center\">\n",
    "</a>\n"
   ]
  },
  {
   "cell_type": "markdown",
   "metadata": {},
   "source": [
    "<h1> HTTP Requests in R</h1>\n",
    "\n",
    "Estimated time needed: **30** minutes\n",
    "\n",
    "## Objectives\n",
    "\n",
    "After completing this lab you will be able to:\n",
    "\n",
    "*   Understand HTTP\n",
    "*   Handle the HTTP Requests and response using R\n"
   ]
  },
  {
   "cell_type": "markdown",
   "metadata": {},
   "source": [
    "<h2>Table of Contents</h2>\n",
    "\n",
    "<div class=\"alert alert-block alert-info\" style=\"margin-top: 20px\">\n",
    "    <ul>\n",
    "        <li><a href=\"#Overview-of-HTTP\">Overview of HTTP</a></li>\n",
    "        <li><a href=\"#The-httr-library\">The httr library</a></li> \n",
    "</div>\n",
    "\n",
    "<hr>\n"
   ]
  },
  {
   "cell_type": "markdown",
   "metadata": {},
   "source": [
    "<a id=\"ref0\"></a>\n",
    "\n",
    "<h2 id=\"http\">Overview of HTTP</h2>\n"
   ]
  },
  {
   "cell_type": "markdown",
   "metadata": {},
   "source": [
    "When the **client** uses a web page your browser sends an **HTTP** request to the **server** where the page is hosted. The server tries to find the desired **resource** such as the home page (index.html).\n",
    "\n",
    "If your request is successful, the server will send the resource to the client in an **HTTP response**; this includes information like the type of the **resource**, the length of the **resource**, and other information.\n",
    "\n",
    "<p>\n",
    "The figure below represents the process; the circle on the left represents the client, the circle on the right represents the  Web server.  The table under the Web server represents a list of resources stored in the web server. In  this case an <code>HTML</code> file, <code>png</code> image, and <code>txt</code> file .\n",
    "</p>\n",
    "<p>\n",
    "The <b>HTTP</b> protocol allows you to send and receive information through the web including webpages, images, and other web resources.\n",
    "</p\n"
   ]
  },
  {
   "cell_type": "markdown",
   "metadata": {},
   "source": [
    "<div class=\"alert alert-block alert-info\" style=\"margin-top: 20px\">\n",
    "         <img src=\"https://s3-api.us-geo.objectstorage.softlayer.net/cf-courses-data/CognitiveClass/PY0101EN/images/reqest_basics.png\" width=\"750\" align=\"center\">\n",
    "\n",
    "</div>\n"
   ]
  },
  {
   "cell_type": "markdown",
   "metadata": {},
   "source": [
    "<h2 id=\"URL\">Uniform Resource Locator:URL</h2>\n"
   ]
  },
  {
   "cell_type": "markdown",
   "metadata": {},
   "source": [
    "Uniform resource locator (URL) is the most popular way to find resources on the web.  We can break the URL into four parts.\n",
    "\n",
    "<ul>\n",
    "    <li><b>scheme</b> this is this protocol, for this lab it will always be <code>http://</code>  </li>\n",
    "    <li><b>Internet address or  Base URL </b> this will be used to find the location here are some examples: <code>www.ibm.com</code> and  <code> www.gitlab.com </code> </li>\n",
    "    <li><b>route</b> location on the web server for example: <code>/images/IDSNlogo.png</code> </li>\n",
    "    <li><b>URL parameters</b> parameters included in an URL for example: <code>?userid=1</code> </li>\n",
    "\n",
    "</ul>\n"
   ]
  },
  {
   "cell_type": "markdown",
   "metadata": {},
   "source": [
    "You may also hear the term uniform resource identifier (URI), URL are actually a subset of URIs. Another popular term is endpoint, this is the URL of an operation provided by a Web server.\n"
   ]
  },
  {
   "cell_type": "markdown",
   "metadata": {},
   "source": [
    "<h2 id=\"RE\">Request </h2>\n"
   ]
  },
  {
   "cell_type": "markdown",
   "metadata": {},
   "source": [
    "The process can be broken into the <b>request</b> and <b>response </b> process.\n",
    "\n",
    "The request using the get method is partially illustrated below. In the start line we have the <code>GET</code> method, this is an <code>HTTP</code> method. Also the location of the resource <code>/index.html</code> and the <code>HTTP</code> version.\n",
    "\n",
    "The Request header passes additional information with an <code>HTTP</code> request:\n"
   ]
  },
  {
   "cell_type": "markdown",
   "metadata": {},
   "source": [
    "<div class=\"alert alert-block alert-info\" style=\"margin-top: 20px\">\n",
    "         <img src=\"https://s3-api.us-geo.objectstorage.softlayer.net/cf-courses-data/CognitiveClass/PY0101EN/images/reqest_messege.png\" width=\"400\" align=\"center\">\n",
    "</div>\n"
   ]
  },
  {
   "cell_type": "markdown",
   "metadata": {},
   "source": [
    "When an <code>HTTP</code> request is made, an <code>HTTP</code> method is sent, this tells the server what action to perform.\n",
    "\n",
    "A list of several <code>HTTP</code> methods is shown below.\n"
   ]
  },
  {
   "cell_type": "markdown",
   "metadata": {},
   "source": [
    "<div class=\"alert alert-block alert-info\" style=\"margin-top: 20px\">\n",
    "         <img src=\"https://s3-api.us-geo.objectstorage.softlayer.net/cf-courses-data/CognitiveClass/PY0101EN/images/http_methods.png\" width=\"400\" align=\"center\">\n",
    "</div>\n"
   ]
  },
  {
   "cell_type": "markdown",
   "metadata": {},
   "source": [
    "<h2 id=\"RES\">Response</h2>\n"
   ]
  },
  {
   "cell_type": "markdown",
   "metadata": {},
   "source": [
    "The figure below represents the response; the response start line contains the version number <code>HTTP/1.0</code>, a status code (200)  meaning success, followed by a descriptive phrase (OK).\n",
    "\n",
    "The response header contains useful meta information.\n",
    "\n",
    "Finally, we have the response body containing the requested file an <code> HTML </code> document. It should be noted that some request have headers.\n"
   ]
  },
  {
   "cell_type": "markdown",
   "metadata": {},
   "source": [
    "<div class=\"alert alert-block alert-info\" style=\"margin-top: 20px\">\n",
    "         <img src=\"https://s3-api.us-geo.objectstorage.softlayer.net/cf-courses-data/CognitiveClass/PY0101EN/images/response_message.png\" width=\"400\" align=\"center\">\n",
    "</div>\n"
   ]
  },
  {
   "cell_type": "markdown",
   "metadata": {},
   "source": [
    "Some status code examples are shown in the table below, the prefix indicates the class; these are shown in yellow, with actual status codes shown in  white. Check out the following  <a href=\"https://developer.mozilla.org/en-US/docs/Web/HTTP/Status?utm_medium=Exinfluencer&utm_source=Exinfluencer&utm_content=000026UJ&utm_term=10006555&utm_id=NA-SkillsNetwork-Channel-SkillsNetworkCoursesIBMDeveloperSkillsNetworkRP0101ENCoursera23911160-2021-01-01\">link </a>  for more descriptions.\n"
   ]
  },
  {
   "cell_type": "markdown",
   "metadata": {},
   "source": [
    "<div class=\"alert alert-block alert-info\" style=\"margin-top: 20px\">\n",
    "         <img src=\"https://s3-api.us-geo.objectstorage.softlayer.net/cf-courses-data/CognitiveClass/PY0101EN/images/status_code.png\" width=\"300\" align=\"center\">\n",
    "</div>\n"
   ]
  },
  {
   "cell_type": "markdown",
   "metadata": {},
   "source": [
    "<a id=\"ref1\"></a>\n",
    "\n",
    "<h2 id=\"#httr\">The httr library</h2>\n"
   ]
  },
  {
   "cell_type": "markdown",
   "metadata": {},
   "source": [
    "`httr` is a R library that allows you to build and send <code>HTTP</code> requests, as well as process <code>HTTP</code> requests easily.  We can import the package as follows (may take less than minute to import):\n"
   ]
  },
  {
   "cell_type": "code",
   "execution_count": 1,
   "metadata": {},
   "outputs": [],
   "source": [
    "library(httr)"
   ]
  },
  {
   "cell_type": "markdown",
   "metadata": {},
   "source": [
    "You can make a <code>GET</code> request via the method <code>get</code> to [www.ibm.com](http://www.ibm.com?cm_mmc=Email_Newsletter-\\_-Developer_Ed%2BTech-\\_-WW_WW-\\_-SkillsNetwork-Courses-IBMDeveloperSkillsNetwork-PY0101EN-SkillsNetwork-19487395\\&cm_mmca1=000026UJ\\&cm_mmca2=10006555\\&cm_mmca3=M12345678\\&cvosrc=email.Newsletter.M12345678\\&cvo_campaign=000026UJ\\&cm_mmc=Email_Newsletter-\\_-Developer_Ed%2BTech-\\_-WW_WW-\\_-SkillsNetwork-Courses-IBMDeveloperSkillsNetwork-PY0101EN-SkillsNetwork-19487395\\&cm_mmca1=000026UJ\\&cm_mmca2=10006555\\&cm_mmca3=M12345678\\&cvosrc=email.Newsletter.M12345678\\&cvo_campaign=000026UJ\\&cm_mmc=Email_Newsletter-\\_-Developer_Ed%2BTech-\\_-WW_WW-\\_-SkillsNetwork-Courses-IBMDeveloperSkillsNetwork-PY0101EN-SkillsNetwork-19487395\\&cm_mmca1=000026UJ\\&cm_mmca2=10006555\\&cm_mmca3=M12345678\\&cvosrc=email.Newsletter.M12345678\\&cvo_campaign=000026UJ\\&cm_mmc=Email_Newsletter-\\_-Developer_Ed%2BTech-\\_-WW_WW-\\_-SkillsNetwork-Courses-IBMDeveloperSkillsNetwork-PY0101EN-SkillsNetwork-19487395\\&cm_mmca1=000026UJ\\&cm_mmca2=10006555\\&cm_mmca3=M12345678\\&cvosrc=email.Newsletter.M12345678\\&cvo_campaign=000026UJ\\&cm_mmc=Email_Newsletter-\\_-Developer_Ed%2BTech-\\_-WW_WW-\\_-SkillsNetwork-Courses-IBMDeveloperSkillsNetwork-PY0101EN-SkillsNetwork-19487395\\&cm_mmca1=000026UJ\\&cm_mmca2=10006555\\&cm_mmca3=M12345678\\&cvosrc=email.Newsletter.M12345678\\&cvo_campaign=000026UJ\\&cm_mmc=Email_Newsletter-\\_-Developer_Ed%2BTech-\\_-WW_WW-\\_-SkillsNetwork-Courses-IBMDeveloperSkillsNetwork-PY0101EN-SkillsNetwork-19487395\\&cm_mmca1=000026UJ\\&cm_mmca2=10006555\\&cm_mmca3=M12345678\\&cvosrc=email.Newsletter.M12345678\\&cvo_campaign=000026UJ\\&cm_mmc=Email_Newsletter-\\_-Developer_Ed%2BTech-\\_-WW_WW-\\_-SkillsNetwork-Courses-IBMDeveloperSkillsNetwork-PY0101EN-SkillsNetwork-19487395\\&cm_mmca1=000026UJ\\&cm_mmca2=10006555\\&cm_mmca3=M12345678\\&cvosrc=email.Newsletter.M12345678\\&cvo_campaign=000026UJ\\&cm_mmc=Email_Newsletter-\\_-Developer_Ed%2BTech-\\_-WW_WW-\\_-SkillsNetwork-Courses-IBMDeveloperSkillsNetwork-PY0101EN-SkillsNetwork-19487395\\&cm_mmca1=000026UJ\\&cm_mmca2=10006555\\&cm_mmca3=M12345678\\&cvosrc=email.Newsletter.M12345678\\&cvo_campaign=000026UJ\\&cm_mmc=Email_Newsletter-\\_-Developer_Ed%2BTech-\\_-WW_WW-\\_-SkillsNetwork-Courses-IBMDeveloperSkillsNetwork-PY0101EN-SkillsNetwork-19487395\\&cm_mmca1=000026UJ\\&cm_mmca2=10006555\\&cm_mmca3=M12345678\\&cvosrc=email.Newsletter.M12345678\\&cvo_campaign=000026UJ\\&cm_mmc=Email_Newsletter-\\_-Developer_Ed%2BTech-\\_-WW_WW-\\_-SkillsNetwork-Courses-IBMDeveloperSkillsNetwork-PY0101EN-SkillsNetwork-19487395\\&cm_mmca1=000026UJ\\&cm_mmca2=10006555\\&cm_mmca3=M12345678\\&cvosrc=email.Newsletter.M12345678\\&cvo_campaign=000026UJ):\n"
   ]
  },
  {
   "cell_type": "code",
   "execution_count": 6,
   "metadata": {
    "tags": []
   },
   "outputs": [
    {
     "data": {
      "text/plain": [
       "Response [https://www.ibm.com/us-en/?ar=1]\n",
       "  Date: 2021-11-27 14:17\n",
       "  Status: 200\n",
       "  Content-Type: text/html\n",
       "  Size: 94.8 kB\n",
       "<!DOCTYPE html><html lang=\"en-US\"><head><meta name=\"viewport\" content=\"width=...\n",
       "            window.hj=window.hj||function(){(hj.q=hj.q||[]).push(arguments)};\n",
       "            window.hj('tagRecording', ['hjLoaded']);\n",
       "            document.addEventListener('onMegaMenuToggle', e => {\n",
       "              if(e.target.getAttribute(\"data-title\") == 'products-solutions') {\n",
       "                window.hj('trigger', 'MM_products-solutions');\n",
       "              }\n",
       "              if(e.target.getAttribute(\"data-title\") == 'services-consulting') {\n",
       "                window.hj('trigger', 'MM_services-consulting');\n",
       "              }\n",
       "..."
      ]
     },
     "metadata": {},
     "output_type": "display_data"
    }
   ],
   "source": [
    "url<-'https://www.ibm.com/'\n",
    "get_response<-GET(url)\n",
    "get_response"
   ]
  },
  {
   "cell_type": "markdown",
   "metadata": {},
   "source": [
    "We have the response object <code>response</code> , this has information about the response, like the status of the request. We can view the status code using the attribute <code>status</code>\n"
   ]
  },
  {
   "cell_type": "code",
   "execution_count": 14,
   "metadata": {},
   "outputs": [
    {
     "data": {
      "text/html": [
       "200"
      ],
      "text/latex": [
       "200"
      ],
      "text/markdown": [
       "200"
      ],
      "text/plain": [
       "[1] 200"
      ]
     },
     "metadata": {},
     "output_type": "display_data"
    },
    {
     "data": {
      "text/html": [],
      "text/latex": [],
      "text/markdown": [],
      "text/plain": [
       "$<NA>\n",
       "NULL\n"
      ]
     },
     "metadata": {},
     "output_type": "display_data"
    }
   ],
   "source": [
    "get_response$status\n",
    "get_response['status'] #does not work"
   ]
  },
  {
   "cell_type": "code",
   "execution_count": 15,
   "metadata": {},
   "outputs": [
    {
     "data": {
      "text/plain": [
       "NULL"
      ]
     },
     "metadata": {},
     "output_type": "display_data"
    }
   ],
   "source": [
    "get_response$body"
   ]
  },
  {
   "cell_type": "markdown",
   "metadata": {},
   "source": [
    "You can also check the headers of the response\n"
   ]
  },
  {
   "cell_type": "code",
   "execution_count": 16,
   "metadata": {},
   "outputs": [
    {
     "data": {
      "text/html": [
       "<dl>\n",
       "\t<dt>$`cache-control`</dt>\n",
       "\t\t<dd>'max-age=301'</dd>\n",
       "\t<dt>$expires</dt>\n",
       "\t\t<dd>'Wed, 24 Nov 2021 15:28:14 GMT'</dd>\n",
       "\t<dt>$`last-modified`</dt>\n",
       "\t\t<dd>'Wed, 24 Nov 2021 14:28:39 GMT'</dd>\n",
       "\t<dt>$etag</dt>\n",
       "\t\t<dd>'\"171ee-5d189ac97ce4c\"'</dd>\n",
       "\t<dt>$`accept-ranges`</dt>\n",
       "\t\t<dd>'bytes'</dd>\n",
       "\t<dt>$`content-encoding`</dt>\n",
       "\t\t<dd>'gzip'</dd>\n",
       "\t<dt>$`content-type`</dt>\n",
       "\t\t<dd>'text/html'</dd>\n",
       "\t<dt>$`x-akamai-transformed`</dt>\n",
       "\t\t<dd>'9 19430 0 pmb=mTOE,1'</dd>\n",
       "\t<dt>$date</dt>\n",
       "\t\t<dd>'Sat, 27 Nov 2021 14:17:57 GMT'</dd>\n",
       "\t<dt>$`content-length`</dt>\n",
       "\t\t<dd>'19503'</dd>\n",
       "\t<dt>$connection</dt>\n",
       "\t\t<dd>'keep-alive'</dd>\n",
       "\t<dt>$vary</dt>\n",
       "\t\t<dd>'Accept-Encoding'</dd>\n",
       "\t<dt>$`x-content-type-options`</dt>\n",
       "\t\t<dd>'nosniff'</dd>\n",
       "\t<dt>$`x-xss-protection`</dt>\n",
       "\t\t<dd>'1; mode=block'</dd>\n",
       "\t<dt>$`content-security-policy`</dt>\n",
       "\t\t<dd>'upgrade-insecure-requests'</dd>\n",
       "\t<dt>$`strict-transport-security`</dt>\n",
       "\t\t<dd>'max-age=31536000'</dd>\n",
       "</dl>\n"
      ],
      "text/latex": [
       "\\begin{description}\n",
       "\\item[\\$`cache-control`] 'max-age=301'\n",
       "\\item[\\$expires] 'Wed, 24 Nov 2021 15:28:14 GMT'\n",
       "\\item[\\$`last-modified`] 'Wed, 24 Nov 2021 14:28:39 GMT'\n",
       "\\item[\\$etag] '\"171ee-5d189ac97ce4c\"'\n",
       "\\item[\\$`accept-ranges`] 'bytes'\n",
       "\\item[\\$`content-encoding`] 'gzip'\n",
       "\\item[\\$`content-type`] 'text/html'\n",
       "\\item[\\$`x-akamai-transformed`] '9 19430 0 pmb=mTOE,1'\n",
       "\\item[\\$date] 'Sat, 27 Nov 2021 14:17:57 GMT'\n",
       "\\item[\\$`content-length`] '19503'\n",
       "\\item[\\$connection] 'keep-alive'\n",
       "\\item[\\$vary] 'Accept-Encoding'\n",
       "\\item[\\$`x-content-type-options`] 'nosniff'\n",
       "\\item[\\$`x-xss-protection`] '1; mode=block'\n",
       "\\item[\\$`content-security-policy`] 'upgrade-insecure-requests'\n",
       "\\item[\\$`strict-transport-security`] 'max-age=31536000'\n",
       "\\end{description}\n"
      ],
      "text/markdown": [
       "$`cache-control`\n",
       ":   'max-age=301'\n",
       "$expires\n",
       ":   'Wed, 24 Nov 2021 15:28:14 GMT'\n",
       "$`last-modified`\n",
       ":   'Wed, 24 Nov 2021 14:28:39 GMT'\n",
       "$etag\n",
       ":   '\"171ee-5d189ac97ce4c\"'\n",
       "$`accept-ranges`\n",
       ":   'bytes'\n",
       "$`content-encoding`\n",
       ":   'gzip'\n",
       "$`content-type`\n",
       ":   'text/html'\n",
       "$`x-akamai-transformed`\n",
       ":   '9 19430 0 pmb=mTOE,1'\n",
       "$date\n",
       ":   'Sat, 27 Nov 2021 14:17:57 GMT'\n",
       "$`content-length`\n",
       ":   '19503'\n",
       "$connection\n",
       ":   'keep-alive'\n",
       "$vary\n",
       ":   'Accept-Encoding'\n",
       "$`x-content-type-options`\n",
       ":   'nosniff'\n",
       "$`x-xss-protection`\n",
       ":   '1; mode=block'\n",
       "$`content-security-policy`\n",
       ":   'upgrade-insecure-requests'\n",
       "$`strict-transport-security`\n",
       ":   'max-age=31536000'\n",
       "\n",
       "\n"
      ],
      "text/plain": [
       "$`cache-control`\n",
       "[1] \"max-age=301\"\n",
       "\n",
       "$expires\n",
       "[1] \"Wed, 24 Nov 2021 15:28:14 GMT\"\n",
       "\n",
       "$`last-modified`\n",
       "[1] \"Wed, 24 Nov 2021 14:28:39 GMT\"\n",
       "\n",
       "$etag\n",
       "[1] \"\\\"171ee-5d189ac97ce4c\\\"\"\n",
       "\n",
       "$`accept-ranges`\n",
       "[1] \"bytes\"\n",
       "\n",
       "$`content-encoding`\n",
       "[1] \"gzip\"\n",
       "\n",
       "$`content-type`\n",
       "[1] \"text/html\"\n",
       "\n",
       "$`x-akamai-transformed`\n",
       "[1] \"9 19430 0 pmb=mTOE,1\"\n",
       "\n",
       "$date\n",
       "[1] \"Sat, 27 Nov 2021 14:17:57 GMT\"\n",
       "\n",
       "$`content-length`\n",
       "[1] \"19503\"\n",
       "\n",
       "$connection\n",
       "[1] \"keep-alive\"\n",
       "\n",
       "$vary\n",
       "[1] \"Accept-Encoding\"\n",
       "\n",
       "$`x-content-type-options`\n",
       "[1] \"nosniff\"\n",
       "\n",
       "$`x-xss-protection`\n",
       "[1] \"1; mode=block\"\n",
       "\n",
       "$`content-security-policy`\n",
       "[1] \"upgrade-insecure-requests\"\n",
       "\n",
       "$`strict-transport-security`\n",
       "[1] \"max-age=31536000\"\n",
       "\n",
       "attr(,\"class\")\n",
       "[1] \"insensitive\" \"list\"       "
      ]
     },
     "metadata": {},
     "output_type": "display_data"
    }
   ],
   "source": [
    "response_headers <- headers(get_response)\n",
    "response_headers"
   ]
  },
  {
   "cell_type": "markdown",
   "metadata": {},
   "source": [
    "We can obtain the date the request was sent using the key <code>Date</code>\n"
   ]
  },
  {
   "cell_type": "code",
   "execution_count": 22,
   "metadata": {},
   "outputs": [
    {
     "data": {
      "text/html": [
       "<strong>$date</strong> = 'Sat, 27 Nov 2021 14:17:57 GMT'"
      ],
      "text/latex": [
       "\\textbf{\\$date} = 'Sat, 27 Nov 2021 14:17:57 GMT'"
      ],
      "text/markdown": [
       "**$date** = 'Sat, 27 Nov 2021 14:17:57 GMT'"
      ],
      "text/plain": [
       "$date\n",
       "[1] \"Sat, 27 Nov 2021 14:17:57 GMT\"\n"
      ]
     },
     "metadata": {},
     "output_type": "display_data"
    },
    {
     "data": {
      "text/html": [
       "'Sat, 27 Nov 2021 14:17:57 GMT'"
      ],
      "text/latex": [
       "'Sat, 27 Nov 2021 14:17:57 GMT'"
      ],
      "text/markdown": [
       "'Sat, 27 Nov 2021 14:17:57 GMT'"
      ],
      "text/plain": [
       "[1] \"Sat, 27 Nov 2021 14:17:57 GMT\""
      ]
     },
     "metadata": {},
     "output_type": "display_data"
    }
   ],
   "source": [
    "response_headers['date'] \n",
    "\n",
    "response_headers$date"
   ]
  },
  {
   "cell_type": "code",
   "execution_count": 23,
   "metadata": {},
   "outputs": [
    {
     "data": {
      "text/html": [
       "'Sat, 27 Nov 2021 14:17:57 GMT'"
      ],
      "text/latex": [
       "'Sat, 27 Nov 2021 14:17:57 GMT'"
      ],
      "text/markdown": [
       "'Sat, 27 Nov 2021 14:17:57 GMT'"
      ],
      "text/plain": [
       "[1] \"Sat, 27 Nov 2021 14:17:57 GMT\""
      ]
     },
     "metadata": {},
     "output_type": "display_data"
    }
   ],
   "source": [
    "response_headers$date"
   ]
  },
  {
   "cell_type": "markdown",
   "metadata": {},
   "source": [
    "<code>Content-Type</code> indicates the type of data:\n"
   ]
  },
  {
   "cell_type": "code",
   "execution_count": 29,
   "metadata": {},
   "outputs": [
    {
     "data": {
      "text/html": [
       "<strong>$`content-type`</strong> = 'text/html'"
      ],
      "text/latex": [
       "\\textbf{\\$`content-type`} = 'text/html'"
      ],
      "text/markdown": [
       "**$`content-type`** = 'text/html'"
      ],
      "text/plain": [
       "$`content-type`\n",
       "[1] \"text/html\"\n"
      ]
     },
     "metadata": {},
     "output_type": "display_data"
    },
    {
     "data": {
      "text/html": [
       "'text/html'"
      ],
      "text/latex": [
       "'text/html'"
      ],
      "text/markdown": [
       "'text/html'"
      ],
      "text/plain": [
       "[1] \"text/html\""
      ]
     },
     "metadata": {},
     "output_type": "display_data"
    },
    {
     "ename": "ERROR",
     "evalue": "Error in eval(expr, envir, enclos): object 'type' not found\n",
     "execution_count": 29,
     "output_type": "error",
     "traceback": [
      "Error in eval(expr, envir, enclos): object 'type' not found\nTraceback:\n"
     ]
    }
   ],
   "source": [
    "response_headers['content-type']\n",
    "response_headers$'content-type'\n",
    "response_headers$content-type #does not work for hyphenated-word works in above format"
   ]
  },
  {
   "cell_type": "markdown",
   "metadata": {},
   "source": [
    "To obtain the original request, you can view it via response object:\n"
   ]
  },
  {
   "cell_type": "code",
   "execution_count": 31,
   "metadata": {},
   "outputs": [
    {
     "data": {
      "text/html": [
       "'https://www.ibm.com/'"
      ],
      "text/latex": [
       "'https://www.ibm.com/'"
      ],
      "text/markdown": [
       "'https://www.ibm.com/'"
      ],
      "text/plain": [
       "[1] \"https://www.ibm.com/\""
      ]
     },
     "metadata": {},
     "output_type": "display_data"
    }
   ],
   "source": [
    "original_req <- get_response$request$url\n",
    "original_req"
   ]
  },
  {
   "cell_type": "markdown",
   "metadata": {},
   "source": [
    "<hr>\n",
    "\n",
    "**Coding Exercise:** in the code cell below, find the content-length attribute in the response header\n"
   ]
  },
  {
   "cell_type": "code",
   "execution_count": 33,
   "metadata": {},
   "outputs": [
    {
     "data": {
      "text/html": [
       "<strong>$`content-length`</strong> = '19503'"
      ],
      "text/latex": [
       "\\textbf{\\$`content-length`} = '19503'"
      ],
      "text/markdown": [
       "**$`content-length`** = '19503'"
      ],
      "text/plain": [
       "$`content-length`\n",
       "[1] \"19503\"\n"
      ]
     },
     "metadata": {},
     "output_type": "display_data"
    }
   ],
   "source": [
    "# Write your code below. Don't forget to press Shift+Enter to execute the cell\n",
    "response_headers['content-length']"
   ]
  },
  {
   "cell_type": "markdown",
   "metadata": {},
   "source": [
    "<details><summary>Click here for the solution</summary>\n",
    "\n",
    "```R\n",
    "response_headers['content-length']\n",
    "\n",
    "```\n",
    "\n",
    "</details>\n",
    "\n",
    "<hr>\n"
   ]
  },
  {
   "cell_type": "markdown",
   "metadata": {},
   "source": [
    "Now, let's get the content of HTTP response\n"
   ]
  },
  {
   "cell_type": "code",
   "execution_count": 35,
   "metadata": {},
   "outputs": [
    {
     "name": "stderr",
     "output_type": "stream",
     "text": [
      "No encoding supplied: defaulting to UTF-8.\n"
     ]
    },
    {
     "data": {
      "text/plain": [
       "{html_document}\n",
       "<html lang=\"en-US\">\n",
       "[1] <head>\\n<meta http-equiv=\"Content-Type\" content=\"text/html; charset=UTF-8 ...\n",
       "[2] <body>\\n<div id=\"__next\">\\n<div>\\n<div class=\"bx--masthead \"><div class=\" ..."
      ]
     },
     "metadata": {},
     "output_type": "display_data"
    }
   ],
   "source": [
    "content(get_response)"
   ]
  },
  {
   "cell_type": "markdown",
   "metadata": {},
   "source": [
    "which is the IBM home page (in fact, HTML page which you will learn later in this course)\n"
   ]
  },
  {
   "cell_type": "markdown",
   "metadata": {},
   "source": [
    "You can load other types of data for non-text requests like images, consider the URL of the following image:\n"
   ]
  },
  {
   "cell_type": "code",
   "execution_count": 37,
   "metadata": {},
   "outputs": [],
   "source": [
    "image_url<-'https://gitlab.com/ibm/skills-network/courses/placeholder101/-/raw/master/labs/module%201/images/IDSNlogo.png'"
   ]
  },
  {
   "cell_type": "markdown",
   "metadata": {},
   "source": [
    "We can make a get request:\n"
   ]
  },
  {
   "cell_type": "code",
   "execution_count": 42,
   "metadata": {},
   "outputs": [
    {
     "data": {
      "text/plain": [
       "Response [https://gitlab.com/ibm/skills-network/courses/placeholder101/-/raw/master/labs/module%201/images/IDSNlogo.png]\n",
       "  Date: 2021-11-27 14:56\n",
       "  Status: 200\n",
       "  Content-Type: image/png\n",
       "  Size: 21.6 kB\n",
       "<BINARY BODY>\n",
       "NULL"
      ]
     },
     "metadata": {},
     "output_type": "display_data"
    }
   ],
   "source": [
    "image_response<-GET(image_url)\n",
    "image_response"
   ]
  },
  {
   "cell_type": "markdown",
   "metadata": {},
   "source": [
    "We can look at the response  header:\n"
   ]
  },
  {
   "cell_type": "code",
   "execution_count": 39,
   "metadata": {},
   "outputs": [
    {
     "data": {
      "text/html": [
       "<dl>\n",
       "\t<dt>$date</dt>\n",
       "\t\t<dd>'Sat, 27 Nov 2021 14:34:07 GMT'</dd>\n",
       "\t<dt>$`content-type`</dt>\n",
       "\t\t<dd>'image/png'</dd>\n",
       "\t<dt>$`content-length`</dt>\n",
       "\t\t<dd>'21590'</dd>\n",
       "\t<dt>$connection</dt>\n",
       "\t\t<dd>'keep-alive'</dd>\n",
       "\t<dt>$`cache-control`</dt>\n",
       "\t\t<dd>'max-age=60, public'</dd>\n",
       "\t<dt>$`content-disposition`</dt>\n",
       "\t\t<dd>'inline'</dd>\n",
       "\t<dt>$etag</dt>\n",
       "\t\t<dd>'W/\"56d66205ba3c6cb8fd1418e601bb3ea8\"'</dd>\n",
       "\t<dt>$`permissions-policy`</dt>\n",
       "\t\t<dd>'interest-cohort=()'</dd>\n",
       "\t<dt>$`referrer-policy`</dt>\n",
       "\t\t<dd>'strict-origin-when-cross-origin'</dd>\n",
       "\t<dt>$`x-content-type-options`</dt>\n",
       "\t\t<dd>'nosniff'</dd>\n",
       "\t<dt>$`x-download-options`</dt>\n",
       "\t\t<dd>'noopen'</dd>\n",
       "\t<dt>$`x-frame-options`</dt>\n",
       "\t\t<dd>'DENY'</dd>\n",
       "\t<dt>$`x-permitted-cross-domain-policies`</dt>\n",
       "\t\t<dd>'none'</dd>\n",
       "\t<dt>$`x-request-id`</dt>\n",
       "\t\t<dd>'01FNGX00FS2T596QBR40V2W01R'</dd>\n",
       "\t<dt>$`x-runtime`</dt>\n",
       "\t\t<dd>'0.057056'</dd>\n",
       "\t<dt>$`x-ua-compatible`</dt>\n",
       "\t\t<dd>'IE=edge'</dd>\n",
       "\t<dt>$`x-xss-protection`</dt>\n",
       "\t\t<dd>'1; mode=block'</dd>\n",
       "\t<dt>$`gitlab-lb`</dt>\n",
       "\t\t<dd>'fe-13-lb-gprd'</dd>\n",
       "\t<dt>$`gitlab-sv`</dt>\n",
       "\t\t<dd>'web-gke-us-east1-c'</dd>\n",
       "\t<dt>$`cf-cache-status`</dt>\n",
       "\t\t<dd>'REVALIDATED'</dd>\n",
       "\t<dt>$`accept-ranges`</dt>\n",
       "\t\t<dd>'bytes'</dd>\n",
       "\t<dt>$`expect-ct`</dt>\n",
       "\t\t<dd>'max-age=604800, report-uri=\"https://report-uri.cloudflare.com/cdn-cgi/beacon/expect-ct\"'</dd>\n",
       "\t<dt>$`report-to`</dt>\n",
       "\t\t<dd>'{\"endpoints\":[{\"url\":\"https:\\\\/\\\\/a.nel.cloudflare.com\\\\/report\\\\/v3?s=uR6GhC3AoI7htHTL1kLCcqyBoSZo2QQ7cQs7QVhmi%2FYkRPD31hB3UIDmLcv8ANBgXvKuWddLPHJ5A66M6GGdgDvzZbOpy8VvzyHbS6NmcjvQGjA6%2B3f%2BDj%2BPvp8%3D\"}],\"group\":\"cf-nel\",\"max_age\":604800}'</dd>\n",
       "\t<dt>$nel</dt>\n",
       "\t\t<dd>'{\"success_fraction\":0.01,\"report_to\":\"cf-nel\",\"max_age\":604800}'</dd>\n",
       "\t<dt>$vary</dt>\n",
       "\t\t<dd>'Accept-Encoding'</dd>\n",
       "\t<dt>$`strict-transport-security`</dt>\n",
       "\t\t<dd>'max-age=31536000'</dd>\n",
       "\t<dt>$server</dt>\n",
       "\t\t<dd>'cloudflare'</dd>\n",
       "\t<dt>$`cf-ray`</dt>\n",
       "\t\t<dd>'6b4c1355188a0641-IAD'</dd>\n",
       "</dl>\n"
      ],
      "text/latex": [
       "\\begin{description}\n",
       "\\item[\\$date] 'Sat, 27 Nov 2021 14:34:07 GMT'\n",
       "\\item[\\$`content-type`] 'image/png'\n",
       "\\item[\\$`content-length`] '21590'\n",
       "\\item[\\$connection] 'keep-alive'\n",
       "\\item[\\$`cache-control`] 'max-age=60, public'\n",
       "\\item[\\$`content-disposition`] 'inline'\n",
       "\\item[\\$etag] 'W/\"56d66205ba3c6cb8fd1418e601bb3ea8\"'\n",
       "\\item[\\$`permissions-policy`] 'interest-cohort=()'\n",
       "\\item[\\$`referrer-policy`] 'strict-origin-when-cross-origin'\n",
       "\\item[\\$`x-content-type-options`] 'nosniff'\n",
       "\\item[\\$`x-download-options`] 'noopen'\n",
       "\\item[\\$`x-frame-options`] 'DENY'\n",
       "\\item[\\$`x-permitted-cross-domain-policies`] 'none'\n",
       "\\item[\\$`x-request-id`] '01FNGX00FS2T596QBR40V2W01R'\n",
       "\\item[\\$`x-runtime`] '0.057056'\n",
       "\\item[\\$`x-ua-compatible`] 'IE=edge'\n",
       "\\item[\\$`x-xss-protection`] '1; mode=block'\n",
       "\\item[\\$`gitlab-lb`] 'fe-13-lb-gprd'\n",
       "\\item[\\$`gitlab-sv`] 'web-gke-us-east1-c'\n",
       "\\item[\\$`cf-cache-status`] 'REVALIDATED'\n",
       "\\item[\\$`accept-ranges`] 'bytes'\n",
       "\\item[\\$`expect-ct`] 'max-age=604800, report-uri=\"https://report-uri.cloudflare.com/cdn-cgi/beacon/expect-ct\"'\n",
       "\\item[\\$`report-to`] '\\{\"endpoints\":{[}\\{\"url\":\"https:\\textbackslash{}\\textbackslash{}/\\textbackslash{}\\textbackslash{}/a.nel.cloudflare.com\\textbackslash{}\\textbackslash{}/report\\textbackslash{}\\textbackslash{}/v3?s=uR6GhC3AoI7htHTL1kLCcqyBoSZo2QQ7cQs7QVhmi\\%2FYkRPD31hB3UIDmLcv8ANBgXvKuWddLPHJ5A66M6GGdgDvzZbOpy8VvzyHbS6NmcjvQGjA6\\%2B3f\\%2BDj\\%2BPvp8\\%3D\"\\}{]},\"group\":\"cf-nel\",\"max\\_age\":604800\\}'\n",
       "\\item[\\$nel] '\\{\"success\\_fraction\":0.01,\"report\\_to\":\"cf-nel\",\"max\\_age\":604800\\}'\n",
       "\\item[\\$vary] 'Accept-Encoding'\n",
       "\\item[\\$`strict-transport-security`] 'max-age=31536000'\n",
       "\\item[\\$server] 'cloudflare'\n",
       "\\item[\\$`cf-ray`] '6b4c1355188a0641-IAD'\n",
       "\\end{description}\n"
      ],
      "text/markdown": [
       "$date\n",
       ":   'Sat, 27 Nov 2021 14:34:07 GMT'\n",
       "$`content-type`\n",
       ":   'image/png'\n",
       "$`content-length`\n",
       ":   '21590'\n",
       "$connection\n",
       ":   'keep-alive'\n",
       "$`cache-control`\n",
       ":   'max-age=60, public'\n",
       "$`content-disposition`\n",
       ":   'inline'\n",
       "$etag\n",
       ":   'W/\"56d66205ba3c6cb8fd1418e601bb3ea8\"'\n",
       "$`permissions-policy`\n",
       ":   'interest-cohort=()'\n",
       "$`referrer-policy`\n",
       ":   'strict-origin-when-cross-origin'\n",
       "$`x-content-type-options`\n",
       ":   'nosniff'\n",
       "$`x-download-options`\n",
       ":   'noopen'\n",
       "$`x-frame-options`\n",
       ":   'DENY'\n",
       "$`x-permitted-cross-domain-policies`\n",
       ":   'none'\n",
       "$`x-request-id`\n",
       ":   '01FNGX00FS2T596QBR40V2W01R'\n",
       "$`x-runtime`\n",
       ":   '0.057056'\n",
       "$`x-ua-compatible`\n",
       ":   'IE=edge'\n",
       "$`x-xss-protection`\n",
       ":   '1; mode=block'\n",
       "$`gitlab-lb`\n",
       ":   'fe-13-lb-gprd'\n",
       "$`gitlab-sv`\n",
       ":   'web-gke-us-east1-c'\n",
       "$`cf-cache-status`\n",
       ":   'REVALIDATED'\n",
       "$`accept-ranges`\n",
       ":   'bytes'\n",
       "$`expect-ct`\n",
       ":   'max-age=604800, report-uri=\"https://report-uri.cloudflare.com/cdn-cgi/beacon/expect-ct\"'\n",
       "$`report-to`\n",
       ":   '{\"endpoints\":[{\"url\":\"https:\\\\/\\\\/a.nel.cloudflare.com\\\\/report\\\\/v3?s=uR6GhC3AoI7htHTL1kLCcqyBoSZo2QQ7cQs7QVhmi%2FYkRPD31hB3UIDmLcv8ANBgXvKuWddLPHJ5A66M6GGdgDvzZbOpy8VvzyHbS6NmcjvQGjA6%2B3f%2BDj%2BPvp8%3D\"}],\"group\":\"cf-nel\",\"max_age\":604800}'\n",
       "$nel\n",
       ":   '{\"success_fraction\":0.01,\"report_to\":\"cf-nel\",\"max_age\":604800}'\n",
       "$vary\n",
       ":   'Accept-Encoding'\n",
       "$`strict-transport-security`\n",
       ":   'max-age=31536000'\n",
       "$server\n",
       ":   'cloudflare'\n",
       "$`cf-ray`\n",
       ":   '6b4c1355188a0641-IAD'\n",
       "\n",
       "\n"
      ],
      "text/plain": [
       "$date\n",
       "[1] \"Sat, 27 Nov 2021 14:34:07 GMT\"\n",
       "\n",
       "$`content-type`\n",
       "[1] \"image/png\"\n",
       "\n",
       "$`content-length`\n",
       "[1] \"21590\"\n",
       "\n",
       "$connection\n",
       "[1] \"keep-alive\"\n",
       "\n",
       "$`cache-control`\n",
       "[1] \"max-age=60, public\"\n",
       "\n",
       "$`content-disposition`\n",
       "[1] \"inline\"\n",
       "\n",
       "$etag\n",
       "[1] \"W/\\\"56d66205ba3c6cb8fd1418e601bb3ea8\\\"\"\n",
       "\n",
       "$`permissions-policy`\n",
       "[1] \"interest-cohort=()\"\n",
       "\n",
       "$`referrer-policy`\n",
       "[1] \"strict-origin-when-cross-origin\"\n",
       "\n",
       "$`x-content-type-options`\n",
       "[1] \"nosniff\"\n",
       "\n",
       "$`x-download-options`\n",
       "[1] \"noopen\"\n",
       "\n",
       "$`x-frame-options`\n",
       "[1] \"DENY\"\n",
       "\n",
       "$`x-permitted-cross-domain-policies`\n",
       "[1] \"none\"\n",
       "\n",
       "$`x-request-id`\n",
       "[1] \"01FNGX00FS2T596QBR40V2W01R\"\n",
       "\n",
       "$`x-runtime`\n",
       "[1] \"0.057056\"\n",
       "\n",
       "$`x-ua-compatible`\n",
       "[1] \"IE=edge\"\n",
       "\n",
       "$`x-xss-protection`\n",
       "[1] \"1; mode=block\"\n",
       "\n",
       "$`gitlab-lb`\n",
       "[1] \"fe-13-lb-gprd\"\n",
       "\n",
       "$`gitlab-sv`\n",
       "[1] \"web-gke-us-east1-c\"\n",
       "\n",
       "$`cf-cache-status`\n",
       "[1] \"REVALIDATED\"\n",
       "\n",
       "$`accept-ranges`\n",
       "[1] \"bytes\"\n",
       "\n",
       "$`expect-ct`\n",
       "[1] \"max-age=604800, report-uri=\\\"https://report-uri.cloudflare.com/cdn-cgi/beacon/expect-ct\\\"\"\n",
       "\n",
       "$`report-to`\n",
       "[1] \"{\\\"endpoints\\\":[{\\\"url\\\":\\\"https:\\\\/\\\\/a.nel.cloudflare.com\\\\/report\\\\/v3?s=uR6GhC3AoI7htHTL1kLCcqyBoSZo2QQ7cQs7QVhmi%2FYkRPD31hB3UIDmLcv8ANBgXvKuWddLPHJ5A66M6GGdgDvzZbOpy8VvzyHbS6NmcjvQGjA6%2B3f%2BDj%2BPvp8%3D\\\"}],\\\"group\\\":\\\"cf-nel\\\",\\\"max_age\\\":604800}\"\n",
       "\n",
       "$nel\n",
       "[1] \"{\\\"success_fraction\\\":0.01,\\\"report_to\\\":\\\"cf-nel\\\",\\\"max_age\\\":604800}\"\n",
       "\n",
       "$vary\n",
       "[1] \"Accept-Encoding\"\n",
       "\n",
       "$`strict-transport-security`\n",
       "[1] \"max-age=31536000\"\n",
       "\n",
       "$server\n",
       "[1] \"cloudflare\"\n",
       "\n",
       "$`cf-ray`\n",
       "[1] \"6b4c1355188a0641-IAD\"\n",
       "\n",
       "attr(,\"class\")\n",
       "[1] \"insensitive\" \"list\"       "
      ]
     },
     "metadata": {},
     "output_type": "display_data"
    }
   ],
   "source": [
    "image_headers <- headers(image_response)\n",
    "image_headers"
   ]
  },
  {
   "cell_type": "markdown",
   "metadata": {},
   "source": [
    "We can we can see the <code>'Content-Type'</code>, which is an image\n"
   ]
  },
  {
   "cell_type": "code",
   "execution_count": 40,
   "metadata": {},
   "outputs": [
    {
     "data": {
      "text/html": [
       "<strong>$`content-type`</strong> = 'image/png'"
      ],
      "text/latex": [
       "\\textbf{\\$`content-type`} = 'image/png'"
      ],
      "text/markdown": [
       "**$`content-type`** = 'image/png'"
      ],
      "text/plain": [
       "$`content-type`\n",
       "[1] \"image/png\"\n"
      ]
     },
     "metadata": {},
     "output_type": "display_data"
    }
   ],
   "source": [
    "image_headers['content-type']"
   ]
  },
  {
   "cell_type": "markdown",
   "metadata": {},
   "source": [
    "An image is a response object that contains the image as a  <a href=\"https://docs.python.org/3/glossary.html?utm_medium=Exinfluencer&utm_source=Exinfluencer&utm_content=000026UJ&utm_term=10006555&utm_id=NA-SkillsNetwork-Channel-SkillsNetworkCoursesIBMDeveloperSkillsNetworkRP0101ENCoursera23911160-2021-01-01#term-bytes-like-object\">bytes-like object</a>. As a result, we must save it using a file object. First, we specify the file path and\n",
    "name\n"
   ]
  },
  {
   "cell_type": "code",
   "execution_count": 41,
   "metadata": {},
   "outputs": [],
   "source": [
    "image <- content(image_response, \"raw\")\n",
    "writeBin(image, \"logo.png\")"
   ]
  },
  {
   "cell_type": "markdown",
   "metadata": {},
   "source": [
    "Then you should be able to find the `log.png` at the file explorer on the left\n"
   ]
  },
  {
   "cell_type": "markdown",
   "metadata": {},
   "source": [
    "<hr>\n",
    "\n",
    "**Coding Exercise:** in the code cell below, find another image url and use above code to request and download the image\n",
    "\n",
    "<hr>\n"
   ]
  },
  {
   "cell_type": "code",
   "execution_count": null,
   "metadata": {},
   "outputs": [],
   "source": [
    "# Find another image URL you are interested, and download the image using above example\n",
    "image2_url <- 'https://cdn.pixabay.com/photo/2015/04/23/22/00/tree-736885_960_720.jpg'\n",
    "image2_response <- GET(image2_url)\n",
    "image2 <- content(image2_response, \"raw\")\n",
    "writeBin(image2, \"logo2.png\")"
   ]
  },
  {
   "cell_type": "markdown",
   "metadata": {},
   "source": [
    "<h2 id=\"URL_P\">Get Request with URL Parameters </h2>\n"
   ]
  },
  {
   "cell_type": "markdown",
   "metadata": {},
   "source": [
    "You can also add URL parameters to HTTP GET request to filter resources. For example, instead of return all users from an API, I only want to get the user with id 1. To do so, I can add a URL parameter like `userid = 1` in my GET request.\n"
   ]
  },
  {
   "cell_type": "markdown",
   "metadata": {},
   "source": [
    "Let's see an GET example with URL parameters:\n"
   ]
  },
  {
   "cell_type": "markdown",
   "metadata": {},
   "source": [
    "Suppose we have a simple GET API with base URL for <code>[http://httpbin.org/](http://httpbin.org?cm_mmc=Email_Newsletter-\\_-Developer_Ed%2BTech-\\_-WW_WW-\\_-SkillsNetwork-Courses-IBMDeveloperSkillsNetwork-PY0101EN-SkillsNetwork-19487395\\&cm_mmca1=000026UJ\\&cm_mmca2=10006555\\&cm_mmca3=M12345678\\&cvosrc=email.Newsletter.M12345678\\&cvo_campaign=000026UJ\\&cm_mmc=Email_Newsletter-\\_-Developer_Ed%2BTech-\\_-WW_WW-\\_-SkillsNetwork-Courses-IBMDeveloperSkillsNetwork-PY0101EN-SkillsNetwork-19487395\\&cm_mmca1=000026UJ\\&cm_mmca2=10006555\\&cm_mmca3=M12345678\\&cvosrc=email.Newsletter.M12345678\\&cvo_campaign=000026UJ\\&cm_mmc=Email_Newsletter-\\_-Developer_Ed%2BTech-\\_-WW_WW-\\_-SkillsNetwork-Courses-IBMDeveloperSkillsNetwork-PY0101EN-SkillsNetwork-19487395\\&cm_mmca1=000026UJ\\&cm_mmca2=10006555\\&cm_mmca3=M12345678\\&cvosrc=email.Newsletter.M12345678\\&cvo_campaign=000026UJ)</code>\n"
   ]
  },
  {
   "cell_type": "code",
   "execution_count": 62,
   "metadata": {},
   "outputs": [],
   "source": [
    "url_get <- 'http://httpbin.org/get'"
   ]
  },
  {
   "cell_type": "markdown",
   "metadata": {},
   "source": [
    "and we want to add some URL parameters to above GET API. To do so, we simply create a named list with parameter names and values:\n"
   ]
  },
  {
   "cell_type": "code",
   "execution_count": 63,
   "metadata": {},
   "outputs": [],
   "source": [
    "query_params <- list(name = \"Yan\", ID = \"123\")"
   ]
  },
  {
   "cell_type": "markdown",
   "metadata": {},
   "source": [
    "Then passing the list <code>query_params</code> to the <code>query</code> argument of the <code> GET()</code> function.\n",
    "\n",
    "It basically tells the GET API I only want to get resources with name equals `Yan` and id equals `123`.\n",
    "\n",
    "OK, let's make the GET request to '[http://httpbin.org/get](http://httpbin.org/get?utm_medium=Exinfluencer\\&utm_source=Exinfluencer\\&utm_content=000026UJ\\&utm_term=10006555\\&utm_id=NA-SkillsNetwork-Channel-SkillsNetworkCoursesIBMDeveloperSkillsNetworkRP0101ENCoursera23911160-2021-01-01)' with the two arameters\n"
   ]
  },
  {
   "cell_type": "code",
   "execution_count": 64,
   "metadata": {},
   "outputs": [],
   "source": [
    "response <- GET(url_get, query=query_params)"
   ]
  },
  {
   "cell_type": "markdown",
   "metadata": {},
   "source": [
    "We can print out the updated <code>URL</code> and see the attached URL parameters.\n"
   ]
  },
  {
   "cell_type": "code",
   "execution_count": 65,
   "metadata": {},
   "outputs": [
    {
     "data": {
      "text/html": [
       "'http://httpbin.org/get?name=Yan&amp;ID=123'"
      ],
      "text/latex": [
       "'http://httpbin.org/get?name=Yan\\&ID=123'"
      ],
      "text/markdown": [
       "'http://httpbin.org/get?name=Yan&amp;ID=123'"
      ],
      "text/plain": [
       "[1] \"http://httpbin.org/get?name=Yan&ID=123\""
      ]
     },
     "metadata": {},
     "output_type": "display_data"
    }
   ],
   "source": [
    "response$request$url"
   ]
  },
  {
   "cell_type": "markdown",
   "metadata": {},
   "source": [
    "After the base URL [http://httpbin.org/get](http://httpbin.org/get?utm_medium=Exinfluencer\\&utm_source=Exinfluencer\\&utm_content=000026UJ\\&utm_term=10006555\\&utm_id=NA-SkillsNetwork-Channel-SkillsNetworkCoursesIBMDeveloperSkillsNetworkRP0101ENCoursera23911160-2021-01-01), you can see the URL parameters `name=Yan&ID=123` are seperated by `?`\n"
   ]
  },
  {
   "cell_type": "markdown",
   "metadata": {},
   "source": [
    "The attribute <code>args</code> of the response had the name and values:\n"
   ]
  },
  {
   "cell_type": "code",
   "execution_count": 66,
   "metadata": {},
   "outputs": [
    {
     "data": {
      "text/html": [
       "<dl>\n",
       "\t<dt>$ID</dt>\n",
       "\t\t<dd>'123'</dd>\n",
       "\t<dt>$name</dt>\n",
       "\t\t<dd>'Yan'</dd>\n",
       "</dl>\n"
      ],
      "text/latex": [
       "\\begin{description}\n",
       "\\item[\\$ID] '123'\n",
       "\\item[\\$name] 'Yan'\n",
       "\\end{description}\n"
      ],
      "text/markdown": [
       "$ID\n",
       ":   '123'\n",
       "$name\n",
       ":   'Yan'\n",
       "\n",
       "\n"
      ],
      "text/plain": [
       "$ID\n",
       "[1] \"123\"\n",
       "\n",
       "$name\n",
       "[1] \"Yan\"\n"
      ]
     },
     "metadata": {},
     "output_type": "display_data"
    }
   ],
   "source": [
    "content(response)$args"
   ]
  },
  {
   "cell_type": "markdown",
   "metadata": {},
   "source": [
    "<h2 id=\"POST\">Post Requests  </h2>\n"
   ]
  },
  {
   "cell_type": "markdown",
   "metadata": {},
   "source": [
    "Like a <code>GET</code> request a <code>POST</code> is used to send data to a server in a request body. In order to send the Post Request in Python in the <code>URL</code> we change the route to <code>POST</code>:\n"
   ]
  },
  {
   "cell_type": "code",
   "execution_count": 68,
   "metadata": {},
   "outputs": [],
   "source": [
    "url_post <- 'http://httpbin.org/post'"
   ]
  },
  {
   "cell_type": "markdown",
   "metadata": {},
   "source": [
    "This endpoint will expect data as a file or as a form, a from is convenient way to configure an HTTP request to send data to a server.\n"
   ]
  },
  {
   "cell_type": "markdown",
   "metadata": {},
   "source": [
    "To make a <code>POST</code> request we use the <code>POST()</code> function, the list <code>body</code>  is passed to the parameter <code> body </code>:\n"
   ]
  },
  {
   "cell_type": "code",
   "execution_count": 69,
   "metadata": {},
   "outputs": [
    {
     "data": {
      "text/plain": [
       "Response [http://httpbin.org/post]\n",
       "  Date: 2021-07-26 18:30\n",
       "  Status: 200\n",
       "  Content-Type: application/json\n",
       "  Size: 622 B\n",
       "{\n",
       "  \"args\": {}, \n",
       "  \"data\": \"\", \n",
       "  \"files\": {}, \n",
       "  \"form\": {\n",
       "    \"course_name\": \"Introduction to R\", \n",
       "    \"instructor\": \"Yan\"\n",
       "  }, \n",
       "  \"headers\": {\n",
       "    \"Accept\": \"application/json, text/xml, application/xml, */*\", \n",
       "..."
      ]
     },
     "metadata": {},
     "output_type": "display_data"
    }
   ],
   "source": [
    "body<- list(course_name='Introduction to R', instructor='Yan')\n",
    "response<-POST('http://httpbin.org/post', body = body)\n",
    "response"
   ]
  },
  {
   "cell_type": "markdown",
   "metadata": {},
   "source": [
    "We can see POST request has a body stored in fields attribute\n"
   ]
  },
  {
   "cell_type": "code",
   "execution_count": 70,
   "metadata": {},
   "outputs": [
    {
     "data": {
      "text/html": [
       "<dl>\n",
       "\t<dt>$course_name</dt>\n",
       "\t\t<dd>'Introduction to R'</dd>\n",
       "\t<dt>$instructor</dt>\n",
       "\t\t<dd>'Yan'</dd>\n",
       "</dl>\n"
      ],
      "text/latex": [
       "\\begin{description}\n",
       "\\item[\\$course\\_name] 'Introduction to R'\n",
       "\\item[\\$instructor] 'Yan'\n",
       "\\end{description}\n"
      ],
      "text/markdown": [
       "$course_name\n",
       ":   'Introduction to R'\n",
       "$instructor\n",
       ":   'Yan'\n",
       "\n",
       "\n"
      ],
      "text/plain": [
       "$course_name\n",
       "[1] \"Introduction to R\"\n",
       "\n",
       "$instructor\n",
       "[1] \"Yan\"\n"
      ]
     },
     "metadata": {},
     "output_type": "display_data"
    }
   ],
   "source": [
    "response$request$fields"
   ]
  },
  {
   "cell_type": "markdown",
   "metadata": {},
   "source": [
    "There is a lot more you can do check out <a href=\"https://cran.r-project.org/web/packages/httr/vignettes/quickstart.html?utm_medium=Exinfluencer&utm_source=Exinfluencer&utm_content=000026UJ&utm_term=10006555&utm_id=NA-SkillsNetwork-Channel-SkillsNetworkCoursesIBMDeveloperSkillsNetworkRP0101ENCoursera23911160-2021-01-01\">httr </a> here.\n"
   ]
  },
  {
   "cell_type": "markdown",
   "metadata": {},
   "source": [
    "<hr>\n"
   ]
  },
  {
   "cell_type": "markdown",
   "metadata": {},
   "source": [
    "## Authors\n",
    "\n",
    "Hi, this is <a href=\"https://www.linkedin.com/in/yan-luo-96288783/?utm_medium=Exinfluencer&utm_source=Exinfluencer&utm_content=000026UJ&utm_term=10006555&utm_id=NA-SkillsNetwork-Channel-SkillsNetworkCoursesIBMDeveloperSkillsNetworkRP0101ENCoursera23911160-2021-01-01\" target=\"_blank\">Yan Luo</a> the author of this notebook.\n",
    "\n",
    "I hope you found it easy to learn how to HTTP requests in R! Feel free to connect with us if you have any questions.\n"
   ]
  },
  {
   "cell_type": "markdown",
   "metadata": {},
   "source": [
    "### Other Contributors\n"
   ]
  },
  {
   "cell_type": "markdown",
   "metadata": {},
   "source": [
    "## Change Log\n",
    "\n",
    "| Date (YYYY-MM-DD) | Version | Changed By | Change Description      |\n",
    "| ----------------- | ------- | ---------- | ----------------------- |\n",
    "| 2021-03-05        | 1.0     | Yan        | Initial version created |\n",
    "|                   |         |            |                         |\n",
    "|                   |         |            |                         |\n",
    "\n",
    "## <h3 align=\"center\"> © IBM Corporation 2021. All rights reserved. <h3/>\n"
   ]
  }
 ],
 "metadata": {
  "kernelspec": {
   "display_name": "R",
   "language": "R",
   "name": "conda-env-r-r"
  },
  "language_info": {
   "codemirror_mode": "r",
   "file_extension": ".r",
   "mimetype": "text/x-r-source",
   "name": "R",
   "pygments_lexer": "r",
   "version": "3.5.1"
  }
 },
 "nbformat": 4,
 "nbformat_minor": 4
}
